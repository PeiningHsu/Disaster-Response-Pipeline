{
 "cells": [
  {
   "cell_type": "code",
   "execution_count": 1,
   "metadata": {},
   "outputs": [
    {
     "name": "stdout",
     "output_type": "stream",
     "text": [
      "[nltk_data] Downloading package punkt to /root/nltk_data...\n",
      "[nltk_data]   Unzipping tokenizers/punkt.zip.\n",
      "[nltk_data] Downloading package stopwords to /root/nltk_data...\n",
      "[nltk_data]   Unzipping corpora/stopwords.zip.\n",
      "[nltk_data] Downloading package wordnet to /root/nltk_data...\n",
      "[nltk_data]   Unzipping corpora/wordnet.zip.\n",
      "[nltk_data] Downloading package averaged_perceptron_tagger to\n",
      "[nltk_data]     /root/nltk_data...\n",
      "[nltk_data]   Unzipping taggers/averaged_perceptron_tagger.zip.\n"
     ]
    }
   ],
   "source": [
    "import sys\n",
    "import re\n",
    "import pandas as pd\n",
    "import numpy as np\n",
    "import pickle\n",
    "from sqlalchemy import create_engine\n",
    "from sklearn.metrics import confusion_matrix\n",
    "import nltk\n",
    "from nltk.corpus import stopwords\n",
    "from nltk.stem.wordnet import WordNetLemmatizer\n",
    "from nltk.tokenize import word_tokenize\n",
    "nltk.download('punkt')\n",
    "nltk.download('stopwords')\n",
    "nltk.download('wordnet')\n",
    "nltk.download('averaged_perceptron_tagger')\n",
    "  \n",
    "from sklearn.preprocessing import StandardScaler\n",
    "from sklearn.metrics import classification_report\n",
    "from sklearn.model_selection import GridSearchCV\n",
    "from sklearn.model_selection import train_test_split\n",
    "from sklearn.pipeline import Pipeline, FeatureUnion\n",
    "from sklearn.feature_extraction.text import CountVectorizer, TfidfTransformer\n",
    "from sklearn.multioutput import MultiOutputClassifier\n",
    "from sklearn.ensemble import RandomForestClassifier, AdaBoostClassifier\n",
    "from sklearn.base import BaseEstimator, TransformerMixin\n",
    "from sklearn.preprocessing import FunctionTransformer\n",
    "from sklearn.linear_model import LogisticRegression\n",
    "import pickle"
   ]
  },
  {
   "cell_type": "code",
   "execution_count": 2,
   "metadata": {},
   "outputs": [
    {
     "name": "stdout",
     "output_type": "stream",
     "text": [
      "0    Weather update - a cold front from Cuba that c...\n",
      "1              Is the Hurricane over or is it not over\n",
      "Name: message, dtype: object\n"
     ]
    },
    {
     "data": {
      "text/html": [
       "<div>\n",
       "<style scoped>\n",
       "    .dataframe tbody tr th:only-of-type {\n",
       "        vertical-align: middle;\n",
       "    }\n",
       "\n",
       "    .dataframe tbody tr th {\n",
       "        vertical-align: top;\n",
       "    }\n",
       "\n",
       "    .dataframe thead th {\n",
       "        text-align: right;\n",
       "    }\n",
       "</style>\n",
       "<table border=\"1\" class=\"dataframe\">\n",
       "  <thead>\n",
       "    <tr style=\"text-align: right;\">\n",
       "      <th></th>\n",
       "      <th>related</th>\n",
       "      <th>request</th>\n",
       "      <th>offer</th>\n",
       "      <th>aid_related</th>\n",
       "      <th>medical_help</th>\n",
       "      <th>medical_products</th>\n",
       "      <th>search_and_rescue</th>\n",
       "      <th>security</th>\n",
       "      <th>military</th>\n",
       "      <th>child_alone</th>\n",
       "      <th>...</th>\n",
       "      <th>aid_centers</th>\n",
       "      <th>other_infrastructure</th>\n",
       "      <th>weather_related</th>\n",
       "      <th>floods</th>\n",
       "      <th>storm</th>\n",
       "      <th>fire</th>\n",
       "      <th>earthquake</th>\n",
       "      <th>cold</th>\n",
       "      <th>other_weather</th>\n",
       "      <th>direct_report</th>\n",
       "    </tr>\n",
       "  </thead>\n",
       "  <tbody>\n",
       "    <tr>\n",
       "      <th>0</th>\n",
       "      <td>1</td>\n",
       "      <td>0</td>\n",
       "      <td>0</td>\n",
       "      <td>0</td>\n",
       "      <td>0</td>\n",
       "      <td>0</td>\n",
       "      <td>0</td>\n",
       "      <td>0</td>\n",
       "      <td>0</td>\n",
       "      <td>0</td>\n",
       "      <td>...</td>\n",
       "      <td>0</td>\n",
       "      <td>0</td>\n",
       "      <td>0</td>\n",
       "      <td>0</td>\n",
       "      <td>0</td>\n",
       "      <td>0</td>\n",
       "      <td>0</td>\n",
       "      <td>0</td>\n",
       "      <td>0</td>\n",
       "      <td>0</td>\n",
       "    </tr>\n",
       "    <tr>\n",
       "      <th>1</th>\n",
       "      <td>1</td>\n",
       "      <td>0</td>\n",
       "      <td>0</td>\n",
       "      <td>1</td>\n",
       "      <td>0</td>\n",
       "      <td>0</td>\n",
       "      <td>0</td>\n",
       "      <td>0</td>\n",
       "      <td>0</td>\n",
       "      <td>0</td>\n",
       "      <td>...</td>\n",
       "      <td>0</td>\n",
       "      <td>0</td>\n",
       "      <td>1</td>\n",
       "      <td>0</td>\n",
       "      <td>1</td>\n",
       "      <td>0</td>\n",
       "      <td>0</td>\n",
       "      <td>0</td>\n",
       "      <td>0</td>\n",
       "      <td>0</td>\n",
       "    </tr>\n",
       "  </tbody>\n",
       "</table>\n",
       "<p>2 rows × 36 columns</p>\n",
       "</div>"
      ],
      "text/plain": [
       "   related  request  offer  aid_related  medical_help  medical_products  \\\n",
       "0        1        0      0            0             0                 0   \n",
       "1        1        0      0            1             0                 0   \n",
       "\n",
       "   search_and_rescue  security  military  child_alone      ...        \\\n",
       "0                  0         0         0            0      ...         \n",
       "1                  0         0         0            0      ...         \n",
       "\n",
       "   aid_centers  other_infrastructure  weather_related  floods  storm  fire  \\\n",
       "0            0                     0                0       0      0     0   \n",
       "1            0                     0                1       0      1     0   \n",
       "\n",
       "   earthquake  cold  other_weather  direct_report  \n",
       "0           0     0              0              0  \n",
       "1           0     0              0              0  \n",
       "\n",
       "[2 rows x 36 columns]"
      ]
     },
     "execution_count": 2,
     "metadata": {},
     "output_type": "execute_result"
    }
   ],
   "source": [
    "# load data from database\n",
    "engine = create_engine('sqlite:///InsertDatabaseName.db')\n",
    "df = pd.read_sql_table('InsertTableName', con = engine)\n",
    "X = df.iloc[:, 1]\n",
    "Y = df.iloc[:, 4:]\n",
    "print(X.head(2))\n",
    "Y.head(2)"
   ]
  },
  {
   "cell_type": "markdown",
   "metadata": {},
   "source": [
    "### 2. Write a tokenization function to process your text data"
   ]
  },
  {
   "cell_type": "code",
   "execution_count": 3,
   "metadata": {},
   "outputs": [],
   "source": [
    "def tokenize(text, language = 'english', lem = True):\n",
    "    ## normalized\n",
    "    text_norm = re.sub(r'[^a-zA-Z0-9]',\" \", text.lower())\n",
    "    ## tokenized\n",
    "    word_text = word_tokenize(text_norm)\n",
    "    ## skip stop word\n",
    "    stop = stopwords.words(language)\n",
    "    words = [w for w in word_text if w not in stop]\n",
    "    if lem:\n",
    "        return [WordNetLemmatizer().lemmatize(w) for w in words]\n",
    "    else:\n",
    "        return [PorterStemmer().stem(w) for w in words]"
   ]
  },
  {
   "cell_type": "markdown",
   "metadata": {},
   "source": [
    "### 3. Build a machine learning pipeline\n",
    "This machine pipeline should take in the `message` column as input and output classification results on the other 36 categories in the dataset. You may find the [MultiOutputClassifier](http://scikit-learn.org/stable/modules/generated/sklearn.multioutput.MultiOutputClassifier.html) helpful for predicting multiple target variables."
   ]
  },
  {
   "cell_type": "code",
   "execution_count": 6,
   "metadata": {},
   "outputs": [],
   "source": [
    "pipeline = Pipeline([\n",
    "        ('vect', CountVectorizer(tokenizer=tokenize)),\n",
    "        ('tfidf', TfidfTransformer()),\n",
    "        ('clf', MultiOutputClassifier(RandomForestClassifier()))\n",
    "    ])\n"
   ]
  },
  {
   "cell_type": "markdown",
   "metadata": {},
   "source": [
    "### 4. Train pipeline\n",
    "- Split data into train and test sets\n",
    "- Train pipeline"
   ]
  },
  {
   "cell_type": "code",
   "execution_count": 7,
   "metadata": {},
   "outputs": [
    {
     "data": {
      "text/plain": [
       "Pipeline(memory=None,\n",
       "     steps=[('vect', CountVectorizer(analyzer='word', binary=False, decode_error='strict',\n",
       "        dtype=<class 'numpy.int64'>, encoding='utf-8', input='content',\n",
       "        lowercase=True, max_df=1.0, max_features=None, min_df=1,\n",
       "        ngram_range=(1, 1), preprocessor=None, stop_words=None,\n",
       "        strip...oob_score=False, random_state=None, verbose=0,\n",
       "            warm_start=False),\n",
       "           n_jobs=1))])"
      ]
     },
     "execution_count": 7,
     "metadata": {},
     "output_type": "execute_result"
    }
   ],
   "source": [
    "X_train, X_test, y_train, y_test = train_test_split(X, Y)\n",
    "pipeline.fit(X_train, y_train)"
   ]
  },
  {
   "cell_type": "code",
   "execution_count": 8,
   "metadata": {},
   "outputs": [],
   "source": [
    "y_pred = pipeline.predict(X_test)"
   ]
  },
  {
   "cell_type": "markdown",
   "metadata": {},
   "source": [
    "### 5. Test your model\n",
    "Report the f1 score, precision and recall for each output category of the dataset. You can do this by iterating through the columns and calling sklearn's `classification_report` on each."
   ]
  },
  {
   "cell_type": "code",
   "execution_count": 4,
   "metadata": {},
   "outputs": [],
   "source": [
    "def display_results(y_test, y_pred, i):\n",
    "    labels = np.unique(y_pred)\n",
    "    confusion_mat = confusion_matrix(y_test, y_pred)\n",
    "    accuracy = sum(y_pred == y_test)/len(y_pred)\n",
    "    \n",
    "    Labels =  Y.columns[i]\n",
    "    Confusion_Matrix =  confusion_mat\n",
    "    accuracy = accuracy\n",
    "    return labels, Confusion_Matrix, accuracy\n",
    "\n"
   ]
  },
  {
   "cell_type": "code",
   "execution_count": 5,
   "metadata": {},
   "outputs": [],
   "source": [
    "def model_accuracy(y_pred, y_test, Y):\n",
    "    accuracy_lst = []\n",
    "    y_pred_df = pd.DataFrame(data = y_pred, columns = Y.columns, index = y_test.index)\n",
    "    for i in range(y_pred_df.shape[1]):\n",
    "        labels, Confusion_Matrix, accuracy = display_results(y_test.iloc[:,i], y_pred_df.iloc[:,i], i)\n",
    "        accuracy_lst.append(accuracy)\n",
    "    print('Mean accuracy of Model : {}'.format(np.mean(accuracy_lst)))\n",
    "    return accuracy_lst"
   ]
  },
  {
   "cell_type": "markdown",
   "metadata": {},
   "source": [
    "### Message variable model ( CountVectorizer/ TfidfVectorizer/ RandomForestClassifier )"
   ]
  },
  {
   "cell_type": "code",
   "execution_count": 11,
   "metadata": {},
   "outputs": [
    {
     "name": "stdout",
     "output_type": "stream",
     "text": [
      "Mean accuracy of Model : 0.9452115756281153\n"
     ]
    }
   ],
   "source": [
    "model_accuracy(y_pred, y_test, Y)"
   ]
  },
  {
   "cell_type": "markdown",
   "metadata": {},
   "source": [
    "### 6. Improve your model\n",
    "Use grid search to find better parameters. "
   ]
  },
  {
   "cell_type": "code",
   "execution_count": 6,
   "metadata": {},
   "outputs": [
    {
     "data": {
      "text/plain": [
       "dict_keys(['memory', 'steps', 'vect', 'tfidf', 'clf', 'vect__analyzer', 'vect__binary', 'vect__decode_error', 'vect__dtype', 'vect__encoding', 'vect__input', 'vect__lowercase', 'vect__max_df', 'vect__max_features', 'vect__min_df', 'vect__ngram_range', 'vect__preprocessor', 'vect__stop_words', 'vect__strip_accents', 'vect__token_pattern', 'vect__tokenizer', 'vect__vocabulary', 'tfidf__norm', 'tfidf__smooth_idf', 'tfidf__sublinear_tf', 'tfidf__use_idf', 'clf__estimator__bootstrap', 'clf__estimator__class_weight', 'clf__estimator__criterion', 'clf__estimator__max_depth', 'clf__estimator__max_features', 'clf__estimator__max_leaf_nodes', 'clf__estimator__min_impurity_decrease', 'clf__estimator__min_impurity_split', 'clf__estimator__min_samples_leaf', 'clf__estimator__min_samples_split', 'clf__estimator__min_weight_fraction_leaf', 'clf__estimator__n_estimators', 'clf__estimator__n_jobs', 'clf__estimator__oob_score', 'clf__estimator__random_state', 'clf__estimator__verbose', 'clf__estimator__warm_start', 'clf__estimator', 'clf__n_jobs'])"
      ]
     },
     "execution_count": 6,
     "metadata": {},
     "output_type": "execute_result"
    }
   ],
   "source": [
    "X_train, X_test, y_train, y_test = train_test_split(X, Y)\n",
    "pipeline = Pipeline([\n",
    "        ('vect', CountVectorizer(tokenizer=tokenize)),\n",
    "        ('tfidf', TfidfTransformer()),\n",
    "        ('clf', MultiOutputClassifier(RandomForestClassifier()))\n",
    "    ])\n",
    "pipeline.get_params().keys()"
   ]
  },
  {
   "cell_type": "code",
   "execution_count": 7,
   "metadata": {},
   "outputs": [],
   "source": [
    "def build_model():\n",
    "    pipeline = Pipeline([\n",
    "        ('vect', CountVectorizer(tokenizer=tokenize)),\n",
    "        ('tfidf', TfidfTransformer()),\n",
    "        ('clf', MultiOutputClassifier(RandomForestClassifier()))\n",
    "    ])\n",
    "\n",
    "    parameters = {\n",
    "        'clf__estimator__n_estimators':  [10,20],\n",
    "        'clf__estimator__min_samples_split': [2, 3]\n",
    "    }\n",
    "\n",
    "    cv = GridSearchCV(estimator = pipeline, param_grid=parameters)\n",
    "\n",
    "    return cv"
   ]
  },
  {
   "cell_type": "code",
   "execution_count": 8,
   "metadata": {},
   "outputs": [],
   "source": [
    "def main():\n",
    "    model = build_model()\n",
    "    print('training...')\n",
    "    model.fit(X_train, y_train)\n",
    "    print(model.best_params_)\n",
    "    y_pred = model.predict(X_test)\n",
    "    accuracy_lst = model_accuracy(y_pred, y_test, Y)\n",
    "    filename = 'finalized_model.pkl'\n",
    "    pickle.dump(model, open(filename, 'wb'))\n",
    "    return y_pred, accuracy_lst"
   ]
  },
  {
   "cell_type": "code",
   "execution_count": 9,
   "metadata": {},
   "outputs": [
    {
     "name": "stdout",
     "output_type": "stream",
     "text": [
      "training...\n",
      "{'clf__estimator__min_samples_split': 2, 'clf__estimator__n_estimators': 20}\n",
      "Mean accuracy of Model : 0.9475383989421222\n"
     ]
    }
   ],
   "source": [
    "y_pred, accuracy_lst = main()"
   ]
  },
  {
   "cell_type": "markdown",
   "metadata": {},
   "source": [
    "### 7. Test your model\n",
    "Show the accuracy, precision, and recall of the tuned model.  \n",
    "\n",
    "Since this project focuses on code quality, process, and  pipelines, there is no minimum performance metric needed to pass. However, make sure to fine tune your models for accuracy, precision and recall to make your project stand out - especially for your portfolio!"
   ]
  },
  {
   "cell_type": "markdown",
   "metadata": {},
   "source": [
    "### 8. Try improving your model further. Here are a few ideas:\n",
    "* try other machine learning algorithms\n",
    "* add other features besides the TF-IDF"
   ]
  },
  {
   "cell_type": "markdown",
   "metadata": {},
   "source": [
    "### Use both message and genre as X variables"
   ]
  },
  {
   "cell_type": "code",
   "execution_count": 69,
   "metadata": {},
   "outputs": [],
   "source": [
    "X = df.iloc[:, [1,3]]\n",
    "Y = df.iloc[:, 4:]"
   ]
  },
  {
   "cell_type": "code",
   "execution_count": 44,
   "metadata": {},
   "outputs": [],
   "source": [
    "def first_column(X):\n",
    "    return X.iloc[:, 0]\n",
    "\n",
    "def second_column(X):\n",
    "    return X.iloc[:, 1]\n",
    "\n",
    "# pipeline to get all tfidf and word count for first column\n",
    "pipeline_one = Pipeline([\n",
    "    ('column_selection', FunctionTransformer(first_column, validate=False)),\n",
    "    ('feature-extractors', FeatureUnion([('tfidf', TfidfVectorizer()),\n",
    "                                        ('counts', CountVectorizer())\n",
    "\n",
    "    ]))\n",
    "])\n",
    "\n",
    "# Then a second pipeline to do the same for the second column\n",
    "pipeline_two = Pipeline([\n",
    "    ('column_selection', FunctionTransformer(second_column, validate=False)),\n",
    "    ('feature-extractors', FeatureUnion([('tfidf', TfidfVectorizer()),\n",
    "                                        ('counts', CountVectorizer())\n",
    "\n",
    "    ]))\n",
    "])\n",
    "\n",
    "\n",
    "# Then you would again feature union these pipelines \n",
    "# to get different feature selection for each column\n",
    "\n",
    "pipeline = Pipeline([\n",
    "    ('features', FeatureUnion([('first-column-features', pipeline_one),\n",
    "                                  ('second-column-feature', pipeline_two)])),\n",
    "   ('clf', MultiOutputClassifier(RandomForestClassifier()))])\n"
   ]
  },
  {
   "cell_type": "code",
   "execution_count": 45,
   "metadata": {},
   "outputs": [
    {
     "name": "stdout",
     "output_type": "stream",
     "text": [
      "Mean accuracy of Model : 0.9443172956294714\n"
     ]
    }
   ],
   "source": [
    "X_train, X_test, y_train, y_test = train_test_split(X, Y)\n",
    "pipeline.fit(X_train, y_train)\n",
    "y_pred = pipeline.predict(X_test)\n",
    "model_accuracy(y_pred, y_test, Y)"
   ]
  },
  {
   "cell_type": "code",
   "execution_count": 40,
   "metadata": {},
   "outputs": [],
   "source": [
    "def build_model():\n",
    "    pipeline_one = Pipeline([\n",
    "    ('column_selection', FunctionTransformer(first_column, validate=False)),\n",
    "    ('feature-extractors', FeatureUnion([('tfidf', TfidfVectorizer()),\n",
    "                                        ('counts', CountVectorizer())\n",
    "\n",
    "    ]))\n",
    "])\n",
    "    pipeline_two = Pipeline([\n",
    "    ('column_selection', FunctionTransformer(second_column, validate=False)),\n",
    "    ('feature-extractors', FeatureUnion([('tfidf', TfidfVectorizer()),\n",
    "                                        ('counts', CountVectorizer())\n",
    "\n",
    "    ]))\n",
    "]) \n",
    "    pipeline = Pipeline([\n",
    "    ('features', FeatureUnion([('first-column-features', pipeline_one),\n",
    "                                  ('second-column-feature', pipeline_two)])),\n",
    "   ('clf', MultiOutputClassifier(RandomForestClassifier()))])\n",
    "\n",
    "    \n",
    "    parameters = {\n",
    "        'clf__estimator__n_estimators':  [10,20],\n",
    "        'clf__estimator__min_samples_split': [2, 3]\n",
    "    }\n",
    "\n",
    "    cv = GridSearchCV(estimator = pipeline, param_grid=parameters)\n",
    "\n",
    "    return cv"
   ]
  },
  {
   "cell_type": "markdown",
   "metadata": {},
   "source": [
    "### Use GridSearch for Two Variable model ( TfidfVectorizer/ CountVectorizer/ RandomForestClassifier )"
   ]
  },
  {
   "cell_type": "code",
   "execution_count": 41,
   "metadata": {},
   "outputs": [
    {
     "name": "stdout",
     "output_type": "stream",
     "text": [
      "training...\n",
      "{'clf__estimator__min_samples_split': 2, 'clf__estimator__n_estimators': 20}\n",
      "Mean accuracy of Model : 0.945796460176991\n"
     ]
    }
   ],
   "source": [
    "y_pred, accuracy_lst = main()"
   ]
  },
  {
   "cell_type": "markdown",
   "metadata": {},
   "source": [
    "### Add other features besides the TF-IDF"
   ]
  },
  {
   "cell_type": "code",
   "execution_count": 52,
   "metadata": {},
   "outputs": [],
   "source": [
    "class StartingVerbExtractor(BaseEstimator, TransformerMixin):\n",
    "\n",
    "    def starting_verb(self, text):\n",
    "        try:\n",
    "            sentence_list = nltk.sent_tokenize(text)\n",
    "            if sentence_list == []:\n",
    "                return False\n",
    "            for sentence in sentence_list:\n",
    "                try:\n",
    "                    pos_tags = nltk.pos_tag(tokenize(sentence))\n",
    "                    first_word, first_tag = pos_tags[0]\n",
    "                    if first_tag in ['VB', 'VBP']:\n",
    "                        return True\n",
    "                    else:\n",
    "                        return False\n",
    "                except:\n",
    "                    return False\n",
    "        except:\n",
    "            return False\n",
    "\n",
    "    def fit(self, x, y=None):\n",
    "        return self\n",
    "\n",
    "    def transform(self, X):\n",
    "        X_tagged = pd.Series(X).apply(self.starting_verb)\n",
    "        return pd.DataFrame(X_tagged)\n"
   ]
  },
  {
   "cell_type": "code",
   "execution_count": 55,
   "metadata": {},
   "outputs": [],
   "source": [
    "def first_column(X):\n",
    "    return X.iloc[:, 0]\n",
    "\n",
    "def second_column(X):\n",
    "    return X.iloc[:, 1]\n",
    "\n",
    "# pipeline to get all tfidf and word count for first column\n",
    "\n",
    "pipeline_one = Pipeline([\n",
    "    ('column_selection', FunctionTransformer(first_column, validate=False)),\n",
    "    ('features', FeatureUnion([\n",
    "                    ('text',Pipeline([\n",
    "                                 ('vect', CountVectorizer(tokenizer=tokenize)),\n",
    "                                ('tfidf', TfidfTransformer())\n",
    "                             ])), \n",
    "                    ('starting_verb', StartingVerbExtractor())]))\n",
    "    ])\n",
    "\n",
    "\n",
    "\n",
    "# Then a second pipeline to do the same for the second column\n",
    "pipeline_twe = Pipeline([\n",
    "    ('column_selection', FunctionTransformer(second_column, validate=False)),\n",
    "    ('features', FeatureUnion([\n",
    "                    ('text',Pipeline([\n",
    "                                 ('vect', CountVectorizer(tokenizer=tokenize)),\n",
    "                                ('tfidf', TfidfTransformer())\n",
    "                             ])), \n",
    "                    ('starting_verb', StartingVerbExtractor())]))\n",
    "    ])\n",
    "\n",
    "\n",
    "# Then you would again feature union these pipelines \n",
    "# to get different feature selection for each column\n",
    "\n",
    "pipeline = Pipeline([\n",
    "    ('features', FeatureUnion([('first-column-features', pipeline_one),\n",
    "                                  ('second-column-feature', pipeline_two)])),\n",
    "   ('clf', MultiOutputClassifier(RandomForestClassifier()))])\n",
    "\n",
    "# train classifier\n",
    "pipeline.fit(X_train, y_train)\n",
    "\n",
    "# predict on test data\n",
    "y_pred = pipeline.predict(X_test)\n",
    "# Your dataframe has your target as the first column, so make sure to drop first\n"
   ]
  },
  {
   "cell_type": "code",
   "execution_count": 56,
   "metadata": {},
   "outputs": [
    {
     "name": "stdout",
     "output_type": "stream",
     "text": [
      "Mean accuracy of Model : 0.9457498389448344\n"
     ]
    }
   ],
   "source": [
    "model_accuracy(y_pred, y_test, Y)"
   ]
  },
  {
   "cell_type": "code",
   "execution_count": 58,
   "metadata": {},
   "outputs": [],
   "source": [
    "def build_model():\n",
    "    # pipeline to get all tfidf and word count for first column\n",
    "\n",
    "    pipeline_one = Pipeline([\n",
    "    ('column_selection', FunctionTransformer(first_column, validate=False)),\n",
    "    ('features', FeatureUnion([\n",
    "                    ('text',Pipeline([\n",
    "                                 ('vect', CountVectorizer(tokenizer=tokenize)),\n",
    "                                ('tfidf', TfidfTransformer())\n",
    "                             ])), \n",
    "                    ('starting_verb', StartingVerbExtractor())]))\n",
    "    ])\n",
    "\n",
    "\n",
    "\n",
    "# Then a second pipeline to do the same for the second column\n",
    "    pipeline_twe = Pipeline([\n",
    "    ('column_selection', FunctionTransformer(second_column, validate=False)),\n",
    "    ('features', FeatureUnion([\n",
    "                    ('text',Pipeline([\n",
    "                                 ('vect', CountVectorizer(tokenizer=tokenize)),\n",
    "                                ('tfidf', TfidfTransformer())\n",
    "                             ])), \n",
    "                    ('starting_verb', StartingVerbExtractor())]))\n",
    "    ])\n",
    "\n",
    "\n",
    "# Then you would again feature union these pipelines \n",
    "# to get different feature selection for each column\n",
    "\n",
    "    pipeline = Pipeline([\n",
    "    ('features', FeatureUnion([('first-column-features', pipeline_one),\n",
    "                                  ('second-column-feature', pipeline_two)])),\n",
    "   ('clf', MultiOutputClassifier(RandomForestClassifier()))])\n",
    "\n",
    "    \n",
    "    parameters = {\n",
    "        'clf__estimator__n_estimators':  [10,20],\n",
    "        'clf__estimator__min_samples_split': [2, 3]\n",
    "    }\n",
    "\n",
    "    cv = GridSearchCV(estimator = pipeline, param_grid=parameters)\n",
    "\n",
    "    return cv"
   ]
  },
  {
   "cell_type": "code",
   "execution_count": 59,
   "metadata": {},
   "outputs": [
    {
     "name": "stdout",
     "output_type": "stream",
     "text": [
      "training...\n",
      "{'clf__estimator__min_samples_split': 2, 'clf__estimator__n_estimators': 20}\n",
      "Mean accuracy of Model : 0.9474324415963111\n"
     ]
    }
   ],
   "source": [
    "y_pred, accuracy_lst = main()"
   ]
  },
  {
   "cell_type": "markdown",
   "metadata": {},
   "source": [
    "### Use AdaBoostClassifier"
   ]
  },
  {
   "cell_type": "code",
   "execution_count": 76,
   "metadata": {},
   "outputs": [],
   "source": [
    "def first_column(X):\n",
    "    return X.iloc[:, 0]\n",
    "\n",
    "def second_column(X):\n",
    "    return X.iloc[:, 1]\n",
    "\n",
    "# pipeline to get all tfidf and word count for first column\n",
    "\n",
    "pipeline_one = Pipeline([\n",
    "    ('column_selection', FunctionTransformer(first_column, validate=False)),\n",
    "    ('features', FeatureUnion([\n",
    "                    ('text',Pipeline([\n",
    "                                 ('vect', CountVectorizer(tokenizer=tokenize)),\n",
    "                                ('tfidf', TfidfTransformer())\n",
    "                             ])), \n",
    "                    ('starting_verb', StartingVerbExtractor())]))\n",
    "    ])\n",
    "\n",
    "\n",
    "\n",
    "# Then a second pipeline to do the same for the second column\n",
    "pipeline_twe = Pipeline([\n",
    "    ('column_selection', FunctionTransformer(second_column, validate=False)),\n",
    "    ('features', FeatureUnion([\n",
    "                    ('text',Pipeline([\n",
    "                                 ('vect', CountVectorizer(tokenizer=tokenize)),\n",
    "                                ('tfidf', TfidfTransformer())\n",
    "                             ])), \n",
    "                    ('starting_verb', StartingVerbExtractor())]))\n",
    "    ])\n",
    "\n",
    "\n",
    "# Then you would again feature union these pipelines \n",
    "# to get different feature selection for each column\n",
    "\n",
    "pipeline = Pipeline([\n",
    "    ('features', FeatureUnion([('first-column-features', pipeline_one),\n",
    "                                  ('second-column-feature', pipeline_two)])),\n",
    "   ('clf', MultiOutputClassifier(AdaBoostClassifier()))])\n",
    "\n",
    "# train classifier\n",
    "pipeline.fit(X_train, y_train)\n",
    "\n",
    "# predict on test data\n",
    "y_pred = pipeline.predict(X_test)\n",
    "# Your dataframe has your target as the first column, so make sure to drop first\n"
   ]
  },
  {
   "cell_type": "code",
   "execution_count": 77,
   "metadata": {},
   "outputs": [
    {
     "name": "stdout",
     "output_type": "stream",
     "text": [
      "Mean accuracy of Model : 0.9472798630183435\n"
     ]
    }
   ],
   "source": [
    "model_accuracy(y_pred, y_test, Y)"
   ]
  },
  {
   "cell_type": "markdown",
   "metadata": {},
   "source": [
    "### Use GridSearch with AdaBoostClassifier"
   ]
  },
  {
   "cell_type": "code",
   "execution_count": 90,
   "metadata": {},
   "outputs": [],
   "source": [
    "def build_model():\n",
    "    # pipeline to get all tfidf and word count for first column\n",
    "\n",
    "    pipeline_one = Pipeline([\n",
    "    ('column_selection', FunctionTransformer(first_column, validate=False)),\n",
    "    ('features', FeatureUnion([\n",
    "                    ('text',Pipeline([\n",
    "                                 ('vect', CountVectorizer(tokenizer=tokenize)),\n",
    "                                ('tfidf', TfidfTransformer())\n",
    "                             ])), \n",
    "                    ('starting_verb', StartingVerbExtractor())]))\n",
    "    ])\n",
    "\n",
    "\n",
    "\n",
    "# Then a second pipeline to do the same for the second column\n",
    "    pipeline_twe = Pipeline([\n",
    "    ('column_selection', FunctionTransformer(second_column, validate=False)),\n",
    "    ('features', FeatureUnion([\n",
    "                    ('text',Pipeline([\n",
    "                                 ('vect', CountVectorizer(tokenizer=tokenize)),\n",
    "                                ('tfidf', TfidfTransformer())\n",
    "                             ])), \n",
    "                    ('starting_verb', StartingVerbExtractor())]))\n",
    "    ])\n",
    "\n",
    "\n",
    "# Then you would again feature union these pipelines \n",
    "# to get different feature selection for each column\n",
    "\n",
    "    pipeline = Pipeline([\n",
    "    ('features', FeatureUnion([('first-column-features', pipeline_one),\n",
    "                                  ('second-column-feature', pipeline_two)])),\n",
    "   ('clf', MultiOutputClassifier(AdaBoostClassifier()))])\n",
    "    \n",
    "    \n",
    "    parameters = {\n",
    "        'clf__estimator__n_estimators':  [10,20],\n",
    "        'clf__estimator__learning_rate': [0.005, 0.01, 0.01]\n",
    "    }\n",
    "\n",
    "    cv = GridSearchCV(estimator = pipeline, param_grid=parameters)\n",
    "\n",
    "    return cv"
   ]
  },
  {
   "cell_type": "code",
   "execution_count": 92,
   "metadata": {},
   "outputs": [
    {
     "name": "stdout",
     "output_type": "stream",
     "text": [
      "dict_keys(['memory', 'steps', 'features', 'clf', 'features__n_jobs', 'features__transformer_list', 'features__transformer_weights', 'features__first-column-features', 'features__second-column-feature', 'features__first-column-features__memory', 'features__first-column-features__steps', 'features__first-column-features__column_selection', 'features__first-column-features__features', 'features__first-column-features__column_selection__accept_sparse', 'features__first-column-features__column_selection__func', 'features__first-column-features__column_selection__inv_kw_args', 'features__first-column-features__column_selection__inverse_func', 'features__first-column-features__column_selection__kw_args', 'features__first-column-features__column_selection__pass_y', 'features__first-column-features__column_selection__validate', 'features__first-column-features__features__n_jobs', 'features__first-column-features__features__transformer_list', 'features__first-column-features__features__transformer_weights', 'features__first-column-features__features__text', 'features__first-column-features__features__starting_verb', 'features__first-column-features__features__text__memory', 'features__first-column-features__features__text__steps', 'features__first-column-features__features__text__vect', 'features__first-column-features__features__text__tfidf', 'features__first-column-features__features__text__vect__analyzer', 'features__first-column-features__features__text__vect__binary', 'features__first-column-features__features__text__vect__decode_error', 'features__first-column-features__features__text__vect__dtype', 'features__first-column-features__features__text__vect__encoding', 'features__first-column-features__features__text__vect__input', 'features__first-column-features__features__text__vect__lowercase', 'features__first-column-features__features__text__vect__max_df', 'features__first-column-features__features__text__vect__max_features', 'features__first-column-features__features__text__vect__min_df', 'features__first-column-features__features__text__vect__ngram_range', 'features__first-column-features__features__text__vect__preprocessor', 'features__first-column-features__features__text__vect__stop_words', 'features__first-column-features__features__text__vect__strip_accents', 'features__first-column-features__features__text__vect__token_pattern', 'features__first-column-features__features__text__vect__tokenizer', 'features__first-column-features__features__text__vect__vocabulary', 'features__first-column-features__features__text__tfidf__norm', 'features__first-column-features__features__text__tfidf__smooth_idf', 'features__first-column-features__features__text__tfidf__sublinear_tf', 'features__first-column-features__features__text__tfidf__use_idf', 'features__second-column-feature__memory', 'features__second-column-feature__steps', 'features__second-column-feature__column_selection', 'features__second-column-feature__feature-extractors', 'features__second-column-feature__column_selection__accept_sparse', 'features__second-column-feature__column_selection__func', 'features__second-column-feature__column_selection__inv_kw_args', 'features__second-column-feature__column_selection__inverse_func', 'features__second-column-feature__column_selection__kw_args', 'features__second-column-feature__column_selection__pass_y', 'features__second-column-feature__column_selection__validate', 'features__second-column-feature__feature-extractors__n_jobs', 'features__second-column-feature__feature-extractors__transformer_list', 'features__second-column-feature__feature-extractors__transformer_weights', 'features__second-column-feature__feature-extractors__counts', 'features__second-column-feature__feature-extractors__tfidf', 'features__second-column-feature__feature-extractors__counts__analyzer', 'features__second-column-feature__feature-extractors__counts__binary', 'features__second-column-feature__feature-extractors__counts__decode_error', 'features__second-column-feature__feature-extractors__counts__dtype', 'features__second-column-feature__feature-extractors__counts__encoding', 'features__second-column-feature__feature-extractors__counts__input', 'features__second-column-feature__feature-extractors__counts__lowercase', 'features__second-column-feature__feature-extractors__counts__max_df', 'features__second-column-feature__feature-extractors__counts__max_features', 'features__second-column-feature__feature-extractors__counts__min_df', 'features__second-column-feature__feature-extractors__counts__ngram_range', 'features__second-column-feature__feature-extractors__counts__preprocessor', 'features__second-column-feature__feature-extractors__counts__stop_words', 'features__second-column-feature__feature-extractors__counts__strip_accents', 'features__second-column-feature__feature-extractors__counts__token_pattern', 'features__second-column-feature__feature-extractors__counts__tokenizer', 'features__second-column-feature__feature-extractors__counts__vocabulary', 'features__second-column-feature__feature-extractors__tfidf__analyzer', 'features__second-column-feature__feature-extractors__tfidf__binary', 'features__second-column-feature__feature-extractors__tfidf__decode_error', 'features__second-column-feature__feature-extractors__tfidf__dtype', 'features__second-column-feature__feature-extractors__tfidf__encoding', 'features__second-column-feature__feature-extractors__tfidf__input', 'features__second-column-feature__feature-extractors__tfidf__lowercase', 'features__second-column-feature__feature-extractors__tfidf__max_df', 'features__second-column-feature__feature-extractors__tfidf__max_features', 'features__second-column-feature__feature-extractors__tfidf__min_df', 'features__second-column-feature__feature-extractors__tfidf__ngram_range', 'features__second-column-feature__feature-extractors__tfidf__norm', 'features__second-column-feature__feature-extractors__tfidf__preprocessor', 'features__second-column-feature__feature-extractors__tfidf__smooth_idf', 'features__second-column-feature__feature-extractors__tfidf__stop_words', 'features__second-column-feature__feature-extractors__tfidf__strip_accents', 'features__second-column-feature__feature-extractors__tfidf__sublinear_tf', 'features__second-column-feature__feature-extractors__tfidf__token_pattern', 'features__second-column-feature__feature-extractors__tfidf__tokenizer', 'features__second-column-feature__feature-extractors__tfidf__use_idf', 'features__second-column-feature__feature-extractors__tfidf__vocabulary', 'clf__estimator__algorithm', 'clf__estimator__base_estimator', 'clf__estimator__learning_rate', 'clf__estimator__n_estimators', 'clf__estimator__random_state', 'clf__estimator', 'clf__n_jobs'])\n",
      "training...\n",
      "{'clf__estimator__learning_rate': 0.01, 'clf__estimator__n_estimators': 20}\n",
      "Mean accuracy of Model : 0.9353533041738719\n"
     ]
    }
   ],
   "source": [
    "y_pred, accuracy_lst = main()"
   ]
  },
  {
   "cell_type": "markdown",
   "metadata": {},
   "source": [
    "### 9. Export your model as a pickle file"
   ]
  },
  {
   "cell_type": "code",
   "execution_count": null,
   "metadata": {},
   "outputs": [],
   "source": [
    "filename = 'finalized_model.pkl'\n",
    "pickle.dump(model, open(filename, 'wb'))"
   ]
  },
  {
   "cell_type": "markdown",
   "metadata": {},
   "source": [
    "### 10. Use this notebook to complete `train.py`\n",
    "Use the template file attached in the Resources folder to write a script that runs the steps above to create a database and export a model based on a new dataset specified by the user."
   ]
  }
 ],
 "metadata": {
  "kernelspec": {
   "display_name": "Python 3",
   "language": "python",
   "name": "python3"
  },
  "language_info": {
   "codemirror_mode": {
    "name": "ipython",
    "version": 3
   },
   "file_extension": ".py",
   "mimetype": "text/x-python",
   "name": "python",
   "nbconvert_exporter": "python",
   "pygments_lexer": "ipython3",
   "version": "3.6.3"
  }
 },
 "nbformat": 4,
 "nbformat_minor": 2
}
